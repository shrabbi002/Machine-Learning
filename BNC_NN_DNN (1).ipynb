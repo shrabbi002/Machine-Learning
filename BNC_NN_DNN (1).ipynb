{
  "nbformat": 4,
  "nbformat_minor": 0,
  "metadata": {
    "colab": {
      "provenance": []
    },
    "kernelspec": {
      "name": "python3",
      "display_name": "Python 3"
    },
    "language_info": {
      "name": "python"
    }
  },
  "cells": [
    {
      "cell_type": "code",
      "source": [
        "print(\"hello\")"
      ],
      "metadata": {
        "colab": {
          "base_uri": "https://localhost:8080/"
        },
        "id": "NrJbJYPfJe1G",
        "outputId": "81f4fade-c2d6-49b7-eb07-eaf5f5d160c6"
      },
      "execution_count": null,
      "outputs": [
        {
          "output_type": "stream",
          "name": "stdout",
          "text": [
            "hello\n"
          ]
        }
      ]
    },
    {
      "cell_type": "code",
      "execution_count": null,
      "metadata": {
        "id": "egaRc_f3Pi_v"
      },
      "outputs": [],
      "source": [
        "!pip install tensorflow"
      ]
    },
    {
      "cell_type": "code",
      "source": [
        "from google.colab import drive\n",
        "drive.mount('/content/drive')\n",
        "path = \"/content/drive/MyDrive/ml_dataset/clean_dataset.csv\""
      ],
      "metadata": {
        "colab": {
          "base_uri": "https://localhost:8080/"
        },
        "id": "--QkFr3JP2UI",
        "outputId": "8d145f26-f49c-426d-da6b-7e732a458b4e"
      },
      "execution_count": null,
      "outputs": [
        {
          "output_type": "stream",
          "name": "stdout",
          "text": [
            "Mounted at /content/drive\n"
          ]
        }
      ]
    },
    {
      "cell_type": "code",
      "source": [
        "import pandas as pd\n",
        "path = \"/content/drive/MyDrive/ml_dataset/clean_dataset.csv\"\n",
        "df = pd.DataFrame\n",
        "\n",
        "data_set = pd.read_csv(path)"
      ],
      "metadata": {
        "id": "b0F9JZxQQzOy"
      },
      "execution_count": null,
      "outputs": []
    },
    {
      "cell_type": "code",
      "source": [
        "data_set.head(5)"
      ],
      "metadata": {
        "colab": {
          "base_uri": "https://localhost:8080/",
          "height": 206
        },
        "id": "GWzqtCnURJ-7",
        "outputId": "b4782e95-3bec-4c51-ed93-8f7c4ebf7a0e"
      },
      "execution_count": null,
      "outputs": [
        {
          "output_type": "execute_result",
          "data": {
            "text/plain": [
              "   Unnamed: 0                                              title  \\\n",
              "0           0  কালিয়াকৈরে টিফিন খেয়ে ৫০০ শ্রমিক অসুস্থ, বিক...   \n",
              "1           1              সেমিফাইনাল বাধাও পেরিয়ে গেলেন লিসিকি   \n",
              "2           2           সংসদে খালেদার অভিযোগের জবাব দিয়েছে ভারত   \n",
              "3           3                               পাসওয়ার্ড ভুলে যান!   \n",
              "4           4                             চলে গেলেন মাউস উদ্ভাবক   \n",
              "\n",
              "                                             content    category  \n",
              "0  গাজীপুরের কালিয়াকৈর উপজেলার তেলিরচালা এলাকায়...  bangladesh  \n",
              "1  এবারের উইম্বলডনটা স্মরণীয় রাখার মিশনেই নেমেছে...      sports  \n",
              "2  জাতীয় সংসদে বিএনপি চেয়ারপারসন বিরোধীদলীয় নে...  bangladesh  \n",
              "3  সহজ পাসওয়ার্ডের কারণে অনলাইন অ্যাকাউন্ট সহজেই...  technology  \n",
              "4  কম্পিউটার মাউসের উদ্ভাবক ডগলাস অ্যাঙ্গেলবার্ট ...  technology  "
            ],
            "text/html": [
              "\n",
              "  <div id=\"df-9df26d0a-53e3-44a3-964f-0edbb6a01748\">\n",
              "    <div class=\"colab-df-container\">\n",
              "      <div>\n",
              "<style scoped>\n",
              "    .dataframe tbody tr th:only-of-type {\n",
              "        vertical-align: middle;\n",
              "    }\n",
              "\n",
              "    .dataframe tbody tr th {\n",
              "        vertical-align: top;\n",
              "    }\n",
              "\n",
              "    .dataframe thead th {\n",
              "        text-align: right;\n",
              "    }\n",
              "</style>\n",
              "<table border=\"1\" class=\"dataframe\">\n",
              "  <thead>\n",
              "    <tr style=\"text-align: right;\">\n",
              "      <th></th>\n",
              "      <th>Unnamed: 0</th>\n",
              "      <th>title</th>\n",
              "      <th>content</th>\n",
              "      <th>category</th>\n",
              "    </tr>\n",
              "  </thead>\n",
              "  <tbody>\n",
              "    <tr>\n",
              "      <th>0</th>\n",
              "      <td>0</td>\n",
              "      <td>কালিয়াকৈরে টিফিন খেয়ে ৫০০ শ্রমিক অসুস্থ, বিক...</td>\n",
              "      <td>গাজীপুরের কালিয়াকৈর উপজেলার তেলিরচালা এলাকায়...</td>\n",
              "      <td>bangladesh</td>\n",
              "    </tr>\n",
              "    <tr>\n",
              "      <th>1</th>\n",
              "      <td>1</td>\n",
              "      <td>সেমিফাইনাল বাধাও পেরিয়ে গেলেন লিসিকি</td>\n",
              "      <td>এবারের উইম্বলডনটা স্মরণীয় রাখার মিশনেই নেমেছে...</td>\n",
              "      <td>sports</td>\n",
              "    </tr>\n",
              "    <tr>\n",
              "      <th>2</th>\n",
              "      <td>2</td>\n",
              "      <td>সংসদে খালেদার অভিযোগের জবাব দিয়েছে ভারত</td>\n",
              "      <td>জাতীয় সংসদে বিএনপি চেয়ারপারসন বিরোধীদলীয় নে...</td>\n",
              "      <td>bangladesh</td>\n",
              "    </tr>\n",
              "    <tr>\n",
              "      <th>3</th>\n",
              "      <td>3</td>\n",
              "      <td>পাসওয়ার্ড ভুলে যান!</td>\n",
              "      <td>সহজ পাসওয়ার্ডের কারণে অনলাইন অ্যাকাউন্ট সহজেই...</td>\n",
              "      <td>technology</td>\n",
              "    </tr>\n",
              "    <tr>\n",
              "      <th>4</th>\n",
              "      <td>4</td>\n",
              "      <td>চলে গেলেন মাউস উদ্ভাবক</td>\n",
              "      <td>কম্পিউটার মাউসের উদ্ভাবক ডগলাস অ্যাঙ্গেলবার্ট ...</td>\n",
              "      <td>technology</td>\n",
              "    </tr>\n",
              "  </tbody>\n",
              "</table>\n",
              "</div>\n",
              "      <button class=\"colab-df-convert\" onclick=\"convertToInteractive('df-9df26d0a-53e3-44a3-964f-0edbb6a01748')\"\n",
              "              title=\"Convert this dataframe to an interactive table.\"\n",
              "              style=\"display:none;\">\n",
              "        \n",
              "  <svg xmlns=\"http://www.w3.org/2000/svg\" height=\"24px\"viewBox=\"0 0 24 24\"\n",
              "       width=\"24px\">\n",
              "    <path d=\"M0 0h24v24H0V0z\" fill=\"none\"/>\n",
              "    <path d=\"M18.56 5.44l.94 2.06.94-2.06 2.06-.94-2.06-.94-.94-2.06-.94 2.06-2.06.94zm-11 1L8.5 8.5l.94-2.06 2.06-.94-2.06-.94L8.5 2.5l-.94 2.06-2.06.94zm10 10l.94 2.06.94-2.06 2.06-.94-2.06-.94-.94-2.06-.94 2.06-2.06.94z\"/><path d=\"M17.41 7.96l-1.37-1.37c-.4-.4-.92-.59-1.43-.59-.52 0-1.04.2-1.43.59L10.3 9.45l-7.72 7.72c-.78.78-.78 2.05 0 2.83L4 21.41c.39.39.9.59 1.41.59.51 0 1.02-.2 1.41-.59l7.78-7.78 2.81-2.81c.8-.78.8-2.07 0-2.86zM5.41 20L4 18.59l7.72-7.72 1.47 1.35L5.41 20z\"/>\n",
              "  </svg>\n",
              "      </button>\n",
              "      \n",
              "  <style>\n",
              "    .colab-df-container {\n",
              "      display:flex;\n",
              "      flex-wrap:wrap;\n",
              "      gap: 12px;\n",
              "    }\n",
              "\n",
              "    .colab-df-convert {\n",
              "      background-color: #E8F0FE;\n",
              "      border: none;\n",
              "      border-radius: 50%;\n",
              "      cursor: pointer;\n",
              "      display: none;\n",
              "      fill: #1967D2;\n",
              "      height: 32px;\n",
              "      padding: 0 0 0 0;\n",
              "      width: 32px;\n",
              "    }\n",
              "\n",
              "    .colab-df-convert:hover {\n",
              "      background-color: #E2EBFA;\n",
              "      box-shadow: 0px 1px 2px rgba(60, 64, 67, 0.3), 0px 1px 3px 1px rgba(60, 64, 67, 0.15);\n",
              "      fill: #174EA6;\n",
              "    }\n",
              "\n",
              "    [theme=dark] .colab-df-convert {\n",
              "      background-color: #3B4455;\n",
              "      fill: #D2E3FC;\n",
              "    }\n",
              "\n",
              "    [theme=dark] .colab-df-convert:hover {\n",
              "      background-color: #434B5C;\n",
              "      box-shadow: 0px 1px 3px 1px rgba(0, 0, 0, 0.15);\n",
              "      filter: drop-shadow(0px 1px 2px rgba(0, 0, 0, 0.3));\n",
              "      fill: #FFFFFF;\n",
              "    }\n",
              "  </style>\n",
              "\n",
              "      <script>\n",
              "        const buttonEl =\n",
              "          document.querySelector('#df-9df26d0a-53e3-44a3-964f-0edbb6a01748 button.colab-df-convert');\n",
              "        buttonEl.style.display =\n",
              "          google.colab.kernel.accessAllowed ? 'block' : 'none';\n",
              "\n",
              "        async function convertToInteractive(key) {\n",
              "          const element = document.querySelector('#df-9df26d0a-53e3-44a3-964f-0edbb6a01748');\n",
              "          const dataTable =\n",
              "            await google.colab.kernel.invokeFunction('convertToInteractive',\n",
              "                                                     [key], {});\n",
              "          if (!dataTable) return;\n",
              "\n",
              "          const docLinkHtml = 'Like what you see? Visit the ' +\n",
              "            '<a target=\"_blank\" href=https://colab.research.google.com/notebooks/data_table.ipynb>data table notebook</a>'\n",
              "            + ' to learn more about interactive tables.';\n",
              "          element.innerHTML = '';\n",
              "          dataTable['output_type'] = 'display_data';\n",
              "          await google.colab.output.renderOutput(dataTable, element);\n",
              "          const docLink = document.createElement('div');\n",
              "          docLink.innerHTML = docLinkHtml;\n",
              "          element.appendChild(docLink);\n",
              "        }\n",
              "      </script>\n",
              "    </div>\n",
              "  </div>\n",
              "  "
            ]
          },
          "metadata": {},
          "execution_count": 4
        }
      ]
    },
    {
      "cell_type": "code",
      "source": [
        "data_set['category'].value_counts()"
      ],
      "metadata": {
        "colab": {
          "base_uri": "https://localhost:8080/"
        },
        "id": "ZYwtoYZARQ7j",
        "outputId": "68156897-eac8-47cc-cd10-ab72c9add582"
      },
      "execution_count": null,
      "outputs": [
        {
          "output_type": "execute_result",
          "data": {
            "text/plain": [
              "bangladesh       232504\n",
              "sports            49012\n",
              "international     30856\n",
              "entertainment     30466\n",
              "economy           17245\n",
              "opinion           15699\n",
              "technology        12116\n",
              "life-style        10852\n",
              "education          9721\n",
              "Name: category, dtype: int64"
            ]
          },
          "metadata": {},
          "execution_count": 5
        }
      ]
    },
    {
      "cell_type": "code",
      "source": [
        "from matplotlib import pyplot as plt\n",
        "plt.figure(figsize=(15, 10))\n",
        "count_classes = data_set.category.value_counts()\n",
        "count_classes.plot(kind = 'bar', rot=0)\n",
        "\n",
        "plt.xlabel(\"Class\")\n",
        "plt.ylabel(\"Frequency\")\n",
        "plt.show()"
      ],
      "metadata": {
        "colab": {
          "base_uri": "https://localhost:8080/",
          "height": 805
        },
        "id": "eUhZK9TF_wyG",
        "outputId": "8fb08fb3-8c03-4d4e-9371-9023df668f3a"
      },
      "execution_count": null,
      "outputs": [
        {
          "output_type": "display_data",
          "data": {
            "text/plain": [
              "<Figure size 1500x1000 with 1 Axes>"
            ],
            "image/png": "[encoded data removed]"
          },
          "metadata": {}
        }
      ]
    },
    {
      "cell_type": "code",
      "source": [
        "temp_df1 = data_set[data_set['category'] == 'bangladesh'][:10000]\n",
        "temp_df2 = data_set[data_set['category'] == 'international'][:10000]\n",
        "temp_df3 = data_set[data_set['category'] == 'entertainment'][:10000]\n",
        "temp_df4 = data_set[data_set['category'] == 'economy'][:10000]\n",
        "temp_df5 = data_set[data_set['category'] == 'opinion'][:10000]\n",
        "temp_df6 = data_set[data_set['category'] == 'technology'][:10000]\n",
        "temp_df7 = data_set[data_set['category'] == 'life-style'][:10000]\n",
        "temp_df8 = data_set[data_set['category'] == 'sports'][:10000]\n",
        "\n",
        "temp_data = pd.concat([temp_df1,temp_df2,temp_df3,temp_df4,temp_df5,temp_df6,temp_df7,temp_df8])"
      ],
      "metadata": {
        "id": "pqnXH9AkRY7l"
      },
      "execution_count": null,
      "outputs": []
    },
    {
      "cell_type": "code",
      "source": [
        "temp_data.head(5)"
      ],
      "metadata": {
        "colab": {
          "base_uri": "https://localhost:8080/",
          "height": 206
        },
        "id": "4XP0klDIRoPs",
        "outputId": "93299d07-7434-474d-bf9a-46cfd33c6ad3"
      },
      "execution_count": null,
      "outputs": [
        {
          "output_type": "execute_result",
          "data": {
            "text/plain": [
              "   Unnamed: 0                                              title  \\\n",
              "0           0  কালিয়াকৈরে টিফিন খেয়ে ৫০০ শ্রমিক অসুস্থ, বিক...   \n",
              "2           2           সংসদে খালেদার অভিযোগের জবাব দিয়েছে ভারত   \n",
              "6           6        খালেদা দুষ্টু কথা বলেছেন: স্বরাষ্ট্রমন্ত্রী   \n",
              "7           7                 আরও ১১টি বিমা কোম্পানি অনুমোদন পেল   \n",
              "8           8     সিএনজি স্টেশনে কাল থেকে অনির্দিষ্টকালের ধর্মঘট   \n",
              "\n",
              "                                             content    category  \n",
              "0  গাজীপুরের কালিয়াকৈর উপজেলার তেলিরচালা এলাকায়...  bangladesh  \n",
              "2  জাতীয় সংসদে বিএনপি চেয়ারপারসন বিরোধীদলীয় নে...  bangladesh  \n",
              "6  যুক্তরাষ্ট্রের বাজারে জিএসপি-সুবিধা বন্ধ প্রসঙ...  bangladesh  \n",
              "7  ১১টি বিমা কোম্পানিকে লাইসেন্সের অনুমোদন বিমা উ...  bangladesh  \n",
              "8  ম্যাজিস্ট্রেটের সিলেটে সিএনজি স্টেশনের এক মালি...  bangladesh  "
            ],
            "text/html": [
              "\n",
              "  <div id=\"df-296a436c-2bff-4522-b61b-fc1e40795197\">\n",
              "    <div class=\"colab-df-container\">\n",
              "      <div>\n",
              "<style scoped>\n",
              "    .dataframe tbody tr th:only-of-type {\n",
              "        vertical-align: middle;\n",
              "    }\n",
              "\n",
              "    .dataframe tbody tr th {\n",
              "        vertical-align: top;\n",
              "    }\n",
              "\n",
              "    .dataframe thead th {\n",
              "        text-align: right;\n",
              "    }\n",
              "</style>\n",
              "<table border=\"1\" class=\"dataframe\">\n",
              "  <thead>\n",
              "    <tr style=\"text-align: right;\">\n",
              "      <th></th>\n",
              "      <th>Unnamed: 0</th>\n",
              "      <th>title</th>\n",
              "      <th>content</th>\n",
              "      <th>category</th>\n",
              "    </tr>\n",
              "  </thead>\n",
              "  <tbody>\n",
              "    <tr>\n",
              "      <th>0</th>\n",
              "      <td>0</td>\n",
              "      <td>কালিয়াকৈরে টিফিন খেয়ে ৫০০ শ্রমিক অসুস্থ, বিক...</td>\n",
              "      <td>গাজীপুরের কালিয়াকৈর উপজেলার তেলিরচালা এলাকায়...</td>\n",
              "      <td>bangladesh</td>\n",
              "    </tr>\n",
              "    <tr>\n",
              "      <th>2</th>\n",
              "      <td>2</td>\n",
              "      <td>সংসদে খালেদার অভিযোগের জবাব দিয়েছে ভারত</td>\n",
              "      <td>জাতীয় সংসদে বিএনপি চেয়ারপারসন বিরোধীদলীয় নে...</td>\n",
              "      <td>bangladesh</td>\n",
              "    </tr>\n",
              "    <tr>\n",
              "      <th>6</th>\n",
              "      <td>6</td>\n",
              "      <td>খালেদা দুষ্টু কথা বলেছেন: স্বরাষ্ট্রমন্ত্রী</td>\n",
              "      <td>যুক্তরাষ্ট্রের বাজারে জিএসপি-সুবিধা বন্ধ প্রসঙ...</td>\n",
              "      <td>bangladesh</td>\n",
              "    </tr>\n",
              "    <tr>\n",
              "      <th>7</th>\n",
              "      <td>7</td>\n",
              "      <td>আরও ১১টি বিমা কোম্পানি অনুমোদন পেল</td>\n",
              "      <td>১১টি বিমা কোম্পানিকে লাইসেন্সের অনুমোদন বিমা উ...</td>\n",
              "      <td>bangladesh</td>\n",
              "    </tr>\n",
              "    <tr>\n",
              "      <th>8</th>\n",
              "      <td>8</td>\n",
              "      <td>সিএনজি স্টেশনে কাল থেকে অনির্দিষ্টকালের ধর্মঘট</td>\n",
              "      <td>ম্যাজিস্ট্রেটের সিলেটে সিএনজি স্টেশনের এক মালি...</td>\n",
              "      <td>bangladesh</td>\n",
              "    </tr>\n",
              "  </tbody>\n",
              "</table>\n",
              "</div>\n",
              "      <button class=\"colab-df-convert\" onclick=\"convertToInteractive('df-296a436c-2bff-4522-b61b-fc1e40795197')\"\n",
              "              title=\"Convert this dataframe to an interactive table.\"\n",
              "              style=\"display:none;\">\n",
              "        \n",
              "  <svg xmlns=\"http://www.w3.org/2000/svg\" height=\"24px\"viewBox=\"0 0 24 24\"\n",
              "       width=\"24px\">\n",
              "    <path d=\"M0 0h24v24H0V0z\" fill=\"none\"/>\n",
              "    <path d=\"M18.56 5.44l.94 2.06.94-2.06 2.06-.94-2.06-.94-.94-2.06-.94 2.06-2.06.94zm-11 1L8.5 8.5l.94-2.06 2.06-.94-2.06-.94L8.5 2.5l-.94 2.06-2.06.94zm10 10l.94 2.06.94-2.06 2.06-.94-2.06-.94-.94-2.06-.94 2.06-2.06.94z\"/><path d=\"M17.41 7.96l-1.37-1.37c-.4-.4-.92-.59-1.43-.59-.52 0-1.04.2-1.43.59L10.3 9.45l-7.72 7.72c-.78.78-.78 2.05 0 2.83L4 21.41c.39.39.9.59 1.41.59.51 0 1.02-.2 1.41-.59l7.78-7.78 2.81-2.81c.8-.78.8-2.07 0-2.86zM5.41 20L4 18.59l7.72-7.72 1.47 1.35L5.41 20z\"/>\n",
              "  </svg>\n",
              "      </button>\n",
              "      \n",
              "  <style>\n",
              "    .colab-df-container {\n",
              "      display:flex;\n",
              "      flex-wrap:wrap;\n",
              "      gap: 12px;\n",
              "    }\n",
              "\n",
              "    .colab-df-convert {\n",
              "      background-color: #E8F0FE;\n",
              "      border: none;\n",
              "      border-radius: 50%;\n",
              "      cursor: pointer;\n",
              "      display: none;\n",
              "      fill: #1967D2;\n",
              "      height: 32px;\n",
              "      padding: 0 0 0 0;\n",
              "      width: 32px;\n",
              "    }\n",
              "\n",
              "    .colab-df-convert:hover {\n",
              "      background-color: #E2EBFA;\n",
              "      box-shadow: 0px 1px 2px rgba(60, 64, 67, 0.3), 0px 1px 3px 1px rgba(60, 64, 67, 0.15);\n",
              "      fill: #174EA6;\n",
              "    }\n",
              "\n",
              "    [theme=dark] .colab-df-convert {\n",
              "      background-color: #3B4455;\n",
              "      fill: #D2E3FC;\n",
              "    }\n",
              "\n",
              "    [theme=dark] .colab-df-convert:hover {\n",
              "      background-color: #434B5C;\n",
              "      box-shadow: 0px 1px 3px 1px rgba(0, 0, 0, 0.15);\n",
              "      filter: drop-shadow(0px 1px 2px rgba(0, 0, 0, 0.3));\n",
              "      fill: #FFFFFF;\n",
              "    }\n",
              "  </style>\n",
              "\n",
              "      <script>\n",
              "        const buttonEl =\n",
              "          document.querySelector('#df-296a436c-2bff-4522-b61b-fc1e40795197 button.colab-df-convert');\n",
              "        buttonEl.style.display =\n",
              "          google.colab.kernel.accessAllowed ? 'block' : 'none';\n",
              "\n",
              "        async function convertToInteractive(key) {\n",
              "          const element = document.querySelector('#df-296a436c-2bff-4522-b61b-fc1e40795197');\n",
              "          const dataTable =\n",
              "            await google.colab.kernel.invokeFunction('convertToInteractive',\n",
              "                                                     [key], {});\n",
              "          if (!dataTable) return;\n",
              "\n",
              "          const docLinkHtml = 'Like what you see? Visit the ' +\n",
              "            '<a target=\"_blank\" href=https://colab.research.google.com/notebooks/data_table.ipynb>data table notebook</a>'\n",
              "            + ' to learn more about interactive tables.';\n",
              "          element.innerHTML = '';\n",
              "          dataTable['output_type'] = 'display_data';\n",
              "          await google.colab.output.renderOutput(dataTable, element);\n",
              "          const docLink = document.createElement('div');\n",
              "          docLink.innerHTML = docLinkHtml;\n",
              "          element.appendChild(docLink);\n",
              "        }\n",
              "      </script>\n",
              "    </div>\n",
              "  </div>\n",
              "  "
            ]
          },
          "metadata": {},
          "execution_count": 7
        }
      ]
    },
    {
      "cell_type": "code",
      "source": [
        "from matplotlib import pyplot as plt\n",
        "plt.figure(figsize=(15, 10))\n",
        "count_classes = temp_data.category.value_counts()\n",
        "count_classes.plot(kind = 'bar', rot=0)\n",
        "\n",
        "plt.xlabel(\"Class\")\n",
        "plt.ylabel(\"Frequency\")\n",
        "plt.show()"
      ],
      "metadata": {
        "colab": {
          "base_uri": "https://localhost:8080/",
          "height": 811
        },
        "id": "aKTaK111RsZT",
        "outputId": "0d23444a-5651-4307-cf01-39f8062d4b19"
      },
      "execution_count": null,
      "outputs": [
        {
          "output_type": "display_data",
          "data": {
            "text/plain": [
              "<Figure size 1500x1000 with 1 Axes>"
            ],
            "image/png": "[encoded data removed]"
          },
          "metadata": {}
        }
      ]
    },
    {
      "cell_type": "code",
      "source": [
        "X = temp_data.loc[:,(\"content\")]\n",
        "Y = temp_data.loc[:,(\"category\")]"
      ],
      "metadata": {
        "id": "iJJtJJqQRzW8"
      },
      "execution_count": null,
      "outputs": []
    },
    {
      "cell_type": "code",
      "source": [
        "from sklearn.model_selection import train_test_split\n",
        "x_train,x_test,y_train,y_test = train_test_split(X,Y, test_size=0.2)"
      ],
      "metadata": {
        "id": "rZepDkq5Tmwa"
      },
      "execution_count": null,
      "outputs": []
    },
    {
      "cell_type": "code",
      "source": [
        "x_train[:10]"
      ],
      "metadata": {
        "colab": {
          "base_uri": "https://localhost:8080/"
        },
        "id": "jJPK172WX4WA",
        "outputId": "0d024f85-0ce1-480d-f163-1005a9a11fb7"
      },
      "execution_count": null,
      "outputs": [
        {
          "output_type": "execute_result",
          "data": {
            "text/plain": [
              "366977    ‘উড়ে যায় বাদলের বাতাসে ছায়াময় এলো কেশ আকাশে’...\n",
              "94723     আকরাম খান আছেন শান্ত ভঙ্গি মুখে স্মিত হাসি বো...\n",
              "39334     বিতর্কিত গুয়ানতানামো বে কারাগার বন্দীদের স্বদে...\n",
              "9404      ঈদে শুভেচ্ছা কার্ড বিতরণের বৃহস্পতিবার জাতীয় ...\n",
              "108856    গানের নাম ‘বেসামাল’ গেয়েছেন ঝিলিক ইমরান গত ঈদু...\n",
              "12391     বরগুনার তালতলী পাথরঘাটা উপজেলায় বঙ্গোপসাগরে গ...\n",
              "164695    বিশ্বের সপ্তম বৃহত্তম অর্থনীতি ব্রাজিল অর্থনৈত...\n",
              "214955    রাদোভান কারাদজিচের হওয়ার ঘটনাটা ভোলার বসনীয় সা...\n",
              "109952    মঙ্গল গ্রহ অনুসন্ধানের মার্কিন মহাকাশ সংস্থার ...\n",
              "159277    বিএনপি নামে পাকিস্তানেও দল পুরো নাম বেলুচিস্তা...\n",
              "Name: content, dtype: object"
            ]
          },
          "metadata": {},
          "execution_count": 11
        }
      ]
    },
    {
      "cell_type": "code",
      "source": [
        "import tensorflow as tf\n",
        "from tensorflow.keras.preprocessing.text import Tokenizer\n",
        "from tensorflow.keras.preprocessing.sequence import pad_sequences"
      ],
      "metadata": {
        "id": "V9G5J1jcR4lU"
      },
      "execution_count": null,
      "outputs": []
    },
    {
      "cell_type": "code",
      "source": [
        "tokenizer = Tokenizer(lower=True)\n",
        "tokenizer.fit_on_texts(x_train.values.astype(str))"
      ],
      "metadata": {
        "id": "c3CEUJcWSB1u"
      },
      "execution_count": null,
      "outputs": []
    },
    {
      "cell_type": "code",
      "source": [
        "vocab_size = len(tokenizer.word_index) + 1\n",
        "print(vocab_size)"
      ],
      "metadata": {
        "colab": {
          "base_uri": "https://localhost:8080/"
        },
        "id": "ZqYQHFMNWDIV",
        "outputId": "b42594b0-6045-4835-84b4-3b849995250d"
      },
      "execution_count": null,
      "outputs": [
        {
          "output_type": "stream",
          "name": "stdout",
          "text": [
            "658060\n"
          ]
        }
      ]
    },
    {
      "cell_type": "code",
      "source": [
        "max_length = 500\n",
        "trunc_type='post'\n",
        "padding_type='post'\n",
        "\n",
        "x_train_sequences = tokenizer.texts_to_sequences(x_train.values.astype(str))\n",
        "x_train_padded = pad_sequences(x_train_sequences, maxlen=max_length, padding=padding_type, truncating=trunc_type)\n",
        "\n",
        "x_test_sequences = tokenizer.texts_to_sequences(x_test.values.astype(str))\n",
        "x_test_padded = pad_sequences(x_test_sequences, maxlen=max_length, padding=padding_type, truncating=trunc_type)"
      ],
      "metadata": {
        "id": "XsajwymrWu22"
      },
      "execution_count": null,
      "outputs": []
    },
    {
      "cell_type": "code",
      "source": [
        "print(x_train[0:1])\n",
        "print(x_train_padded[0])"
      ],
      "metadata": {
        "colab": {
          "base_uri": "https://localhost:8080/"
        },
        "id": "kxaWfbviXh3g",
        "outputId": "a8224ad5-ded4-4212-9124-53983614dced"
      },
      "execution_count": null,
      "outputs": [
        {
          "output_type": "stream",
          "name": "stdout",
          "text": [
            "366977    ‘উড়ে যায় বাদলের বাতাসে ছায়াময় এলো কেশ আকাশে’...\n",
            "Name: content, dtype: object\n",
            "[161613     11  37253   4271 110861  66113  54251 233448   2436    453\n",
            "    417 233449    777     10   1751   2529  11638   2457     60   1436\n",
            "   1751   2218  17156   1537 233450   3604  88456   2690   1751   8593\n",
            "    242   8841   1220    183   3619  97895     93    264   1094     60\n",
            "     11   1298    533   2668    824   7330    505    823  12313   4040\n",
            "   2559   7231 161614    829  24095   3605    238   1129  70315 233451\n",
            "  26414   5488    505  10106  13875   1751   2395   2529    247 233452\n",
            "   1751   8841   2740    829  24095    662  13497    214    154    138\n",
            "     10     80 233453   2529   3605    529    378  11690   2670   1337\n",
            "    604    833  16004    874   1783  11690     93    264    686   1119\n",
            "   1211   5880  39228    378  11690  59488    686   1756    378  59489\n",
            "    829      4    563 233454    829 233455    378  11690    264     19\n",
            "   3605   6800   6435   2259   6800   6435  70316   1438   8357     11\n",
            "    829    359   6901    104  75213   6800   6435   6435  14120     42\n",
            "    484   5329   1978  32184   3573   1751   6557   3523   4499   3523\n",
            "  26801   9462   8097    248   4499  26801      1    948   2268    811\n",
            "  11586    122 129823   3666   1438   3605   1876    248     42    484\n",
            "   1978  32184    829   2362     90    144   6800  70316   6435    376\n",
            " 233456 110862  26802   9462   1438   6435     16   1543   2259   9617\n",
            "   1049   3605   4328   2737   1609 161615      2    829    662   5251\n",
            "   7941 233457   5880  66114    604   1149     93    486    505   5880\n",
            " 233458   3209    247    505     56     59   2373    248   3605    662\n",
            "   2740    247    125     26     10     80    264    505     10    406\n",
            "    829    662   2740    247    138   7501  17886    662   3605  11022\n",
            "  16366    672  19736  10236  19736   1876 233459   5778    301    505\n",
            "     88  10106  34211    774    662  10236     10   1751  12314    672\n",
            "  13712  14399  29945  16005   2740 161615  31580   1856      0      0\n",
            "      0      0      0      0      0      0      0      0      0      0\n",
            "      0      0      0      0      0      0      0      0      0      0\n",
            "      0      0      0      0      0      0      0      0      0      0\n",
            "      0      0      0      0      0      0      0      0      0      0\n",
            "      0      0      0      0      0      0      0      0      0      0\n",
            "      0      0      0      0      0      0      0      0      0      0\n",
            "      0      0      0      0      0      0      0      0      0      0\n",
            "      0      0      0      0      0      0      0      0      0      0\n",
            "      0      0      0      0      0      0      0      0      0      0\n",
            "      0      0      0      0      0      0      0      0      0      0\n",
            "      0      0      0      0      0      0      0      0      0      0\n",
            "      0      0      0      0      0      0      0      0      0      0\n",
            "      0      0      0      0      0      0      0      0      0      0\n",
            "      0      0      0      0      0      0      0      0      0      0\n",
            "      0      0      0      0      0      0      0      0      0      0\n",
            "      0      0      0      0      0      0      0      0      0      0\n",
            "      0      0      0      0      0      0      0      0      0      0\n",
            "      0      0      0      0      0      0      0      0      0      0\n",
            "      0      0      0      0      0      0      0      0      0      0\n",
            "      0      0      0      0      0      0      0      0      0      0\n",
            "      0      0      0      0      0      0      0      0      0      0\n",
            "      0      0      0      0      0      0      0      0      0      0\n",
            "      0      0      0      0      0      0      0      0      0      0]\n"
          ]
        }
      ]
    },
    {
      "cell_type": "code",
      "source": [
        "from sklearn.preprocessing import LabelEncoder\n",
        "le = LabelEncoder()\n",
        "\n",
        "en_y_train = le.fit_transform(y_train)\n",
        "en_y_test = le.transform(y_test)"
      ],
      "metadata": {
        "id": "g5it8aeyaHWF"
      },
      "execution_count": null,
      "outputs": []
    },
    {
      "cell_type": "code",
      "source": [
        "from sklearn.preprocessing import OneHotEncoder\n",
        "\n",
        "encoder = OneHotEncoder(sparse=False)\n",
        "en_y_train = en_y_train.reshape((en_y_train.shape[0], 1))\n",
        "y_train_ohe = encoder.fit_transform(en_y_train)\n",
        "en_y_test = en_y_test.reshape((en_y_test.shape[0], 1))\n",
        "y_test_ohe = encoder.fit_transform(en_y_test)"
      ],
      "metadata": {
        "colab": {
          "base_uri": "https://localhost:8080/"
        },
        "id": "93CR8-xWnCww",
        "outputId": "59e8848a-77ba-4cd9-c825-927ee10795f7"
      },
      "execution_count": null,
      "outputs": [
        {
          "output_type": "stream",
          "name": "stderr",
          "text": [
            "/usr/local/lib/python3.9/dist-packages/sklearn/preprocessing/_encoders.py:868: FutureWarning: `sparse` was renamed to `sparse_output` in version 1.2 and will be removed in 1.4. `sparse_output` is ignored unless you leave `sparse` to its default value.\n",
            "  warnings.warn(\n",
            "/usr/local/lib/python3.9/dist-packages/sklearn/preprocessing/_encoders.py:868: FutureWarning: `sparse` was renamed to `sparse_output` in version 1.2 and will be removed in 1.4. `sparse_output` is ignored unless you leave `sparse` to its default value.\n",
            "  warnings.warn(\n"
          ]
        }
      ]
    },
    {
      "cell_type": "code",
      "source": [
        "print(x_train_padded.shape)\n",
        "# print(en_y_train.shape)\n",
        "print(y_train_ohe.shape)\n",
        "print(x_test_padded.shape)\n",
        "print(y_test_ohe.shape)"
      ],
      "metadata": {
        "colab": {
          "base_uri": "https://localhost:8080/"
        },
        "id": "miIXkmSnbewI",
        "outputId": "9c52d789-cf63-4a20-968f-d6c4ab033c3e"
      },
      "execution_count": null,
      "outputs": [
        {
          "output_type": "stream",
          "name": "stdout",
          "text": [
            "(64000, 500)\n",
            "(64000, 8)\n",
            "(16000, 500)\n",
            "(16000, 8)\n"
          ]
        }
      ]
    },
    {
      "cell_type": "code",
      "source": [
        "from tensorflow.keras.layers import Dense, Dropout, Embedding, AveragePooling1D,Flatten\n",
        "from tensorflow.keras.models import Sequential\n",
        "from tensorflow.keras.callbacks import EarlyStopping\n",
        "\n",
        "model = Sequential()\n",
        "model.add(Embedding(input_dim=vocab_size, output_dim=8, input_length=max_length))\n",
        "model.add(AveragePooling1D())\n",
        "model.add(Flatten())\n",
        "model.add(Dense(256, activation='relu'))\n",
        "model.add(Dense(128, activation='relu'))\n",
        "model.add(Dense(64, activation='relu'))\n",
        "model.add(Dense(8, activation='softmax'))  # add output layer with 8 units and 'softmax' activation\n",
        "\n",
        "model.compile(loss='categorical_crossentropy', optimizer='adam', metrics=['accuracy'])\n",
        "print(model.summary())\n"
      ],
      "metadata": {
        "colab": {
          "base_uri": "https://localhost:8080/"
        },
        "id": "_ljQ6vAOcKZ6",
        "outputId": "0da7cbc8-b92c-4a91-95a2-fceb5ed696f1"
      },
      "execution_count": null,
      "outputs": [
        {
          "output_type": "stream",
          "name": "stdout",
          "text": [
            "Model: \"sequential\"\n",
            "_________________________________________________________________\n",
            " Layer (type)                Output Shape              Param #   \n",
            "=================================================================\n",
            " embedding (Embedding)       (None, 500, 8)            5264480   \n",
            "                                                                 \n",
            " average_pooling1d (AverageP  (None, 250, 8)           0         \n",
            " ooling1D)                                                       \n",
            "                                                                 \n",
            " flatten (Flatten)           (None, 2000)              0         \n",
            "                                                                 \n",
            " dense (Dense)               (None, 256)               512256    \n",
            "                                                                 \n",
            " dense_1 (Dense)             (None, 128)               32896     \n",
            "                                                                 \n",
            " dense_2 (Dense)             (None, 64)                8256      \n",
            "                                                                 \n",
            " dense_3 (Dense)             (None, 8)                 520       \n",
            "                                                                 \n",
            "=================================================================\n",
            "Total params: 5,818,408\n",
            "Trainable params: 5,818,408\n",
            "Non-trainable params: 0\n",
            "_________________________________________________________________\n",
            "None\n"
          ]
        }
      ]
    },
    {
      "cell_type": "code",
      "source": [
        "history = model.fit(x_train_padded, y_train_ohe, epochs=10, batch_size= 512 , validation_split=0.15, callbacks=[EarlyStopping(monitor='val_loss', patience =3)])"
      ],
      "metadata": {
        "colab": {
          "base_uri": "https://localhost:8080/"
        },
        "id": "quZbtGzSfRL_",
        "outputId": "95074d36-c091-4d66-e988-2ece2a5eaa3d"
      },
      "execution_count": null,
      "outputs": [
        {
          "output_type": "stream",
          "name": "stdout",
          "text": [
            "Epoch 1/10\n",
            "107/107 [==============================] - 18s 171ms/step - loss: 0.0010 - accuracy: 0.9998 - val_loss: 0.4216 - val_accuracy: 0.9174\n",
            "Epoch 2/10\n",
            "107/107 [==============================] - 17s 160ms/step - loss: 0.0014 - accuracy: 0.9998 - val_loss: 0.4167 - val_accuracy: 0.9185\n",
            "Epoch 3/10\n",
            "107/107 [==============================] - 17s 159ms/step - loss: 0.0015 - accuracy: 0.9998 - val_loss: 0.4409 - val_accuracy: 0.9164\n",
            "Epoch 4/10\n",
            "107/107 [==============================] - 17s 160ms/step - loss: 9.4571e-04 - accuracy: 0.9998 - val_loss: 0.4622 - val_accuracy: 0.9154\n",
            "Epoch 5/10\n",
            "107/107 [==============================] - 18s 170ms/step - loss: 0.0013 - accuracy: 0.9998 - val_loss: 0.4657 - val_accuracy: 0.9140\n"
          ]
        }
      ]
    },
    {
      "cell_type": "code",
      "source": [
        "model.save('Dense_NN')"
      ],
      "metadata": {
        "colab": {
          "base_uri": "https://localhost:8080/"
        },
        "id": "3OTCPvvu-oyH",
        "outputId": "b06ec5ef-c9f7-4b91-b46c-d88e4cabac09"
      },
      "execution_count": null,
      "outputs": [
        {
          "output_type": "stream",
          "name": "stderr",
          "text": [
            "WARNING:absl:Found untraced functions such as _update_step_xla while saving (showing 1 of 1). These functions will not be directly callable after loading.\n"
          ]
        }
      ]
    },
    {
      "cell_type": "code",
      "source": [
        "accr = model.evaluate(x_test_padded,y_test_ohe)\n",
        "print('Test set\\n  Loss: {:0.3f}\\n  Accuracy: {:0.3f}'.format(accr[0],accr[1]))"
      ],
      "metadata": {
        "colab": {
          "base_uri": "https://localhost:8080/"
        },
        "id": "nk5-nOTfpgqM",
        "outputId": "caf90243-e3fb-41a1-f532-d6cd7b3d2fa2"
      },
      "execution_count": null,
      "outputs": [
        {
          "output_type": "stream",
          "name": "stdout",
          "text": [
            "500/500 [==============================] - 4s 8ms/step - loss: 0.4733 - accuracy: 0.9162\n",
            "Test set\n",
            "  Loss: 0.473\n",
            "  Accuracy: 0.916\n"
          ]
        }
      ]
    },
    {
      "cell_type": "code",
      "source": [
        "import numpy as np\n",
        "\n",
        "new_text = ['লিওনেল মেসির ভরপুর ট্রফি–কেসে যুক্ত হলো আরও তিনটি ট্রফি। ২০২২ সালে বিশ্বকাপ জয়সহ ফুটবল মাঠের দারুণ সফলতার স্বীকৃতি হিসেবে এই পুরস্কার পেয়েছেন মেসি। তবে ফুটবল মাঠে অবদানের জন্য মেসি একটি নন, পেয়েছেন তিনটি পুরস্কার আর্জেন্টাইন মহাতারকাকে এই পুরস্কারগুলো দিয়েছে ইন্টারন্যাশনাল ফুটবল হিস্টোরি অ্যান্ড স্ট্যাটিস্টিকস ফেডারেশন (আইএফএফএইচএস)। কাতার বিশ্বকাপে আর্জেন্টিনাকে সামনে থেকে নেতৃত্ব দিয়েছেন মেসি। ৩৬ বছর পর আর্জেন্টিনাকে বিশ্বকাপ জেতানোর পথে টুর্নামেন্টের সেরা খেলোয়াড়ের পুরস্কার গোল্ডেন বল জিতেছেন মেসি।']\n",
        "seq = tokenizer.texts_to_sequences(new_text)\n",
        "padded = pad_sequences(seq, maxlen= 500)\n",
        "pred = model.predict(padded)\n",
        "labels = ['bangladesh','economy', 'entertainment', 'international', 'life-style', 'opinion', 'sports', 'technology']\n",
        "print(pred, labels[np.argmax(pred)])"
      ],
      "metadata": {
        "colab": {
          "base_uri": "https://localhost:8080/"
        },
        "id": "57GOSzBXtfb8",
        "outputId": "cab05f10-caf3-4b9f-f3f7-01b0c048742b"
      },
      "execution_count": null,
      "outputs": [
        {
          "output_type": "stream",
          "name": "stdout",
          "text": [
            "1/1 [==============================] - 0s 152ms/step\n",
            "[[2.1615560e-01 8.3325095e-02 5.3730655e-01 7.8383572e-03 2.2041377e-02\n",
            "  3.7280514e-04 1.3143009e-01 1.5301090e-03]] entertainment\n"
          ]
        }
      ]
    },
    {
      "cell_type": "code",
      "source": [
        "import matplotlib.pyplot as plt\n",
        "plt.title('Accuracy Vs Loss')\n",
        "plt.plot(history.history['val_loss'], label='loss')\n",
        "plt.plot(history.history['val_accuracy'], label='accuracy')\n",
        "plt.legend()\n",
        "plt.show();"
      ],
      "metadata": {
        "colab": {
          "base_uri": "https://localhost:8080/",
          "height": 452
        },
        "id": "LdgfQCHE2EdO",
        "outputId": "926eefe1-892c-4724-997f-fd167e61902c"
      },
      "execution_count": null,
      "outputs": [
        {
          "output_type": "display_data",
          "data": {
            "text/plain": [
              "<Figure size 640x480 with 1 Axes>"
            ],
            "image/png": "[encoded data removed]"
          },
          "metadata": {}
        }
      ]
    },
    {
      "cell_type": "code",
      "source": [
        "from sklearn.metrics import confusion_matrix\n",
        "import numpy as np\n",
        "\n",
        "nn_pred = model.predict(x_test_padded)\n",
        "nn_pred_list = []\n",
        "\n",
        "for x in nn_pred:\n",
        "  nn_pred_list.append(np.argmax(x))\n",
        "cm_nn = confusion_matrix(en_y_test, nn_pred_list)\n",
        "# print(cm_nn)\n",
        "\n"
      ],
      "metadata": {
        "colab": {
          "base_uri": "https://localhost:8080/"
        },
        "id": "SXXqq6qrNJvu",
        "outputId": "22f15b01-a295-4c7b-975d-1f2d9d68b952"
      },
      "execution_count": null,
      "outputs": [
        {
          "output_type": "stream",
          "name": "stdout",
          "text": [
            "500/500 [==============================] - 3s 5ms/step\n"
          ]
        }
      ]
    },
    {
      "cell_type": "code",
      "source": [
        "import seaborn as sns\n",
        "import matplotlib.pyplot as plt\n",
        "\n",
        "plt.figure(figsize=(15, 7))\n",
        "sns.heatmap(cm_nn, annot=True ,cmap=\"Reds\", xticklabels=[0,1,2,3,4,5,6,7], yticklabels= [0,1,2,3,4,5,6,7], square=True)\n",
        "plt.xlabel(\"Predict\")\n",
        "# plt.ylable(\"Actual\")\n",
        "plt.show()"
      ],
      "metadata": {
        "colab": {
          "base_uri": "https://localhost:8080/",
          "height": 619
        },
        "id": "ovaQZfR1S0Y4",
        "outputId": "c126a806-6448-490e-915a-76972f1ced30"
      },
      "execution_count": null,
      "outputs": [
        {
          "output_type": "display_data",
          "data": {
            "text/plain": [
              "<Figure size 1500x700 with 2 Axes>"
            ],
            "image/png": "[encoded data removed]"
          },
          "metadata": {}
        }
      ]
    }
  ]
}